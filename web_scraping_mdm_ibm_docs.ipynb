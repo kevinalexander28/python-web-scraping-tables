{
 "cells": [
  {
   "cell_type": "code",
   "execution_count": null,
   "id": "8fb09157",
   "metadata": {},
   "outputs": [],
   "source": [
    "pip install selenium beautifulsoup4 pandas requests"
   ]
  },
  {
   "cell_type": "code",
   "execution_count": 12,
   "id": "b042e940",
   "metadata": {},
   "outputs": [],
   "source": [
    "import os\n",
    "\n",
    "directory = 'C:/Users/user/AnacondaProjects/python-web-scraping-tables/data/'\n",
    "if not os.path.exists(directory):\n",
    "    os.makedirs(directory)"
   ]
  },
  {
   "cell_type": "code",
   "execution_count": 13,
   "id": "a207e2f9",
   "metadata": {},
   "outputs": [],
   "source": [
    "import pandas as pd\n",
    "import requests\n",
    "from bs4 import BeautifulSoup\n",
    "\n",
    "list_of_tables = [\n",
    "    \"CONTACT\"\n",
    "]\n",
    "\n",
    "for table in list_of_tables:\n",
    "    # Define URL\n",
    "    URL = \"https://www.ibm.com/docs/en/imdm/12.0?topic=tables-{}\".format(table.lower())\n",
    "    \n",
    "    # Get Page\n",
    "    page = requests.get(URL)\n",
    "\n",
    "    # Extract Content\n",
    "    soup = BeautifulSoup(page.content, \"html.parser\")\n",
    "\n",
    "    # Print content\n",
    "    # print(soup.prettify())\n",
    "\n",
    "    # Get table from content\n",
    "    table_component = soup.find(\"table\", class_=\"defaultstyle\")\n",
    "\n",
    "    # Print table in content\n",
    "    # print(table.prettify())\n",
    "\n",
    "    # Obtain every title of columns with tag <th>\n",
    "    headers = []\n",
    "    for table_head in table_component.find_all('th'):\n",
    "        # Get every title in header\n",
    "        title = table_head.text\n",
    "        headers.append(title)\n",
    "\n",
    "    # Show headers\n",
    "    # print(headers)\n",
    "\n",
    "    # Create a dataframe\n",
    "    data = pd.DataFrame(columns = headers)\n",
    "\n",
    "    # Create a for loop to fill mydata\n",
    "    for table_row in table_component.find_all('tr')[1:]:\n",
    "        # Get every row\n",
    "        row_data = table_row.find_all('td')\n",
    "        # Get every cell in row\n",
    "        row = [cell.text for cell in row_data]\n",
    "        length = len(data)\n",
    "        data.loc[length] = row\n",
    "\n",
    "    # Show data\n",
    "    # print(data)\n",
    "    \n",
    "\n",
    "    data.to_csv(directory + '{}.csv'.format(table.lower()), index=False)"
   ]
  }
 ],
 "metadata": {
  "kernelspec": {
   "display_name": "Python 3 (ipykernel)",
   "language": "python",
   "name": "python3"
  },
  "language_info": {
   "codemirror_mode": {
    "name": "ipython",
    "version": 3
   },
   "file_extension": ".py",
   "mimetype": "text/x-python",
   "name": "python",
   "nbconvert_exporter": "python",
   "pygments_lexer": "ipython3",
   "version": "3.8.12"
  }
 },
 "nbformat": 4,
 "nbformat_minor": 5
}
